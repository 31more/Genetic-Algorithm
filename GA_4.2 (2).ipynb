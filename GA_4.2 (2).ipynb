{
 "cells": [
  {
   "cell_type": "markdown",
   "metadata": {},
   "source": [
    "Вариант 11\n",
    "\n",
    "Особь - битовая последовательность размера n=200 (кол-во грузов)\n",
    "\n",
    "Начальная популяция - 1.1 случайная генерация\n",
    "\n",
    "Отбор - 2.2 выбрать только 20% самых приспособленных особей\n",
    "\n",
    "Скрещивание - 3.1 многоточечный с 3мя точками\n",
    "\n",
    "Мутация - 4.2 случайное изменение 3х битов у 5% особей\n",
    "\n",
    "Формирование новой популяции - 5.2 «штраф» за «старость» - 10% функции приспособленности, выбор лучших\n",
    "\n",
    "Оценка результата Наступила сходимость (функция приспособленности лучшей особи в популяциях отличается не более, чем на стоимость самой дешевой вещи) или прошло 500 поколений"
   ]
  },
  {
   "cell_type": "code",
   "execution_count": 54,
   "metadata": {},
   "outputs": [],
   "source": [
    "from random import randint\n",
    "import copy\n",
    "import random \n",
    "import pandas as pd\n"
   ]
  },
  {
   "cell_type": "code",
   "execution_count": 55,
   "metadata": {
    "scrolled": true
   },
   "outputs": [
    {
     "name": "stdout",
     "output_type": "stream",
     "text": [
      "[[13000.0, 12.0], [205.0, 0.8, 173.0], [489.0, 0.4, 172.0], [1230.0, 1.0, 344.0], [859.0, 0.6, 173.0], [1015.0, 0.9, 333.0], [1524.0, 1.0, 250.0], [1643.0, 0.6, 338.0], [1541.0, 0.7, 324.0], [1010.0, 0.5, 359.0], [1465.0, 1.2, 199.0], [1571.0, 1.0, 350.0], [1092.0, 0.9, 277.0], [470.0, 1.0, 301.0], [959.0, 0.9, 137.0], [876.0, 0.6, 140.0], [669.0, 0.9, 304.0], [1036.0, 0.4, 204.0], [412.0, 0.9, 130.0], [945.0, 1.0, 315.0], [611.0, 0.6, 389.0], [825.0, 0.7, 354.0], [1487.0, 0.9, 102.0], [984.0, 0.9, 274.0], [1576.0, 0.4, 150.0], [797.0, 0.4, 256.0], [1555.0, 1.0, 343.0], [786.0, 1.1, 375.0], [1502.0, 0.5, 173.0], [830.0, 0.6, 369.0], [399.0, 1.1, 195.0]] \n",
      "\n"
     ]
    }
   ],
   "source": [
    "myList=[]\n",
    "with open('11.txt') as f:\n",
    "    for line in f:\n",
    "        myList.append([float(x) for x in line.split()])\n",
    "lngth=len(myList)\n",
    "\n",
    "maxWeight=myList[0][0]\n",
    "maxVolume=myList[0][1]\n",
    "\n",
    "value=[]\n",
    "size=[]\n",
    "weight=[]\n",
    "\n",
    "for i in range (1,lngth):\n",
    "    #ценность\n",
    "    value.append(myList[i][2])\n",
    "    #размер\n",
    "    size.append(myList[i][1])\n",
    "    #вес\n",
    "    weight.append(myList[i][0])\n",
    "\n",
    "print(myList,'\\n')"
   ]
  },
  {
   "cell_type": "code",
   "execution_count": 56,
   "metadata": {},
   "outputs": [],
   "source": [
    "numGenes = len(myList)-1 #кол-во грузов, т.е. генов (в одной особи 30 генов)\n",
    "numInd = 200"
   ]
  },
  {
   "cell_type": "code",
   "execution_count": 57,
   "metadata": {},
   "outputs": [],
   "source": [
    "def weight_checking(individual):\n",
    "    sumWeight=0\n",
    "    for i in range(numGenes):\n",
    "        sumWeight += individual[i] * weight[i]\n",
    "    if sumWeight > maxWeight:\n",
    "        return 0\n",
    "    else: \n",
    "        return sumWeight\n",
    "\n",
    "def volume_checking(individual):\n",
    "    sumSize=0\n",
    "    for i in range(numGenes):\n",
    "        sumSize += individual[i] * size[i]\n",
    "    if sumSize > maxVolume:\n",
    "        return 0\n",
    "    else: \n",
    "        return sumSize"
   ]
  },
  {
   "cell_type": "code",
   "execution_count": 58,
   "metadata": {},
   "outputs": [],
   "source": [
    "# Определяет стоимость набора, по сути fitness-функция\n",
    "def countPrice(individual, data):\n",
    "    weight, volume, price = 0, 0, 0\n",
    "    for i in range(len(individual)):\n",
    "        weight += int(data[i][0]) * individual[i]\n",
    "        volume += float(data[i][1]) * individual[i]\n",
    "        price += int(data[i][2]) * individual[i]\n",
    "    if weight > maxWeight or volume > maxVolume:\n",
    "        return 0\n",
    "    return price"
   ]
  },
  {
   "cell_type": "code",
   "execution_count": 59,
   "metadata": {},
   "outputs": [],
   "source": [
    "#Начальная популяция - 1.1 случайная генерация\n",
    "#Сначала создаем особь, потом популяцию\n",
    "def creation_of_individual():\n",
    "    individual = [rd.randint(0, 1) for x in range(numGenes)] #особь\n",
    "    while not (volume_checking(individual) and weight_checking(individual)):\n",
    "        individual = [rd.randint(0, 1) for x in range(numGenes)]\n",
    "    return individual\n",
    "\n",
    "\n",
    "def creation_of_population():\n",
    "    initial_population=[]\n",
    "    for x in range(numInd):\n",
    "        initial_population.append(creation_of_individual())\n",
    "    return initial_population"
   ]
  },
  {
   "cell_type": "code",
   "execution_count": 60,
   "metadata": {},
   "outputs": [],
   "source": [
    "# Выбор лучших 20%\n",
    "def selection(myPopulation, data):\n",
    "    valueOfPopulation = []\n",
    "    for i in range(len(myPopulation)):\n",
    "        individualList = []\n",
    "        individualList.append(countPrice(myPopulation[i], data))\n",
    "        individualList.append(myPopulation[i])\n",
    "        valueOfPopulation.append(individualList)\n",
    "    valueOfPopulation.sort(reverse=True)\n",
    "\n",
    "    numberOfSelected = len(myPopulation) // 5\n",
    "    selected = []\n",
    "    for i in range(numberOfSelected):\n",
    "        selected.append(valueOfPopulation[i][1])\n",
    "\n",
    "    return selected"
   ]
  },
  {
   "cell_type": "markdown",
   "metadata": {},
   "source": [
    "Скрещивание - 3.1 многоточечный с 3мя точками"
   ]
  },
  {
   "cell_type": "code",
   "execution_count": 61,
   "metadata": {},
   "outputs": [],
   "source": [
    "# Получает двух новых особей на основе двух родительских\n",
    "def findChildren(parent1, parent2):\n",
    "    point1 = random.randint(0, len(parent1) // 3)\n",
    "    point2 = random.randint(point1, len(parent1) // 3 * 2)\n",
    "    point3 = random.randint(point2, len(parent1))\n",
    "\n",
    "    child1 = parent1[0:point1] + parent2[point1:point2] + parent1[point2:point3] + parent2[point3:]\n",
    "    child2 = parent2[0:point1] + parent1[point1:point2] + parent2[point2:point3] + parent1[point3:]\n",
    "\n",
    "    return child1, child2"
   ]
  },
  {
   "cell_type": "code",
   "execution_count": 62,
   "metadata": {},
   "outputs": [],
   "source": [
    "# Скрещивание(лучших детишек берем, худших меняем на родителей)\n",
    "def crossing(selectedIndividuals, data): #особь\n",
    "    parents = sorted(selectedIndividuals, key=lambda *args: random.random()) #возвращаем случайное значение\n",
    "    numberOfPairs = len(selectedIndividuals) // 2 #делаем пары\n",
    "    crossed = []\n",
    "    for pairNum in range(numberOfPairs):\n",
    "        child1, child2 = findChildren(parents[pairNum * 2], parents[pairNum * 2 + 1]) #скрещиваем 0 и 1, потом 2 и 3\n",
    "\n",
    "        if countPrice(child1, data) != 0:\n",
    "            crossed.append(child1)\n",
    "        else:\n",
    "            crossed.append(parents[pairNum * 2])\n",
    "\n",
    "        if countPrice(child2, data) != 0:\n",
    "            crossed.append(child2)\n",
    "        else:\n",
    "            crossed.append(parents[pairNum * 2 + 1])\n",
    "\n",
    "    return crossed"
   ]
  },
  {
   "cell_type": "code",
   "execution_count": 63,
   "metadata": {},
   "outputs": [],
   "source": [
    "# Мутация\n",
    "def mutating(crossedIndividuals, data, numGenes):\n",
    "    mutatedIndex = []\n",
    "    numberOfMutations = len(crossedIndividuals) // 20 #наши 5 проц\n",
    "    for mutatingNum in range(numberOfMutations): #добаляем в первом цикле первый индекс, while позволяет не записать такой же индекс второй раз\n",
    "        tryIndex = random.randint(0, len(crossedIndividuals))\n",
    "        while tryIndex in mutatedIndex:\n",
    "            tryIndex = random.randint(0, len(crossedIndividuals))\n",
    "        mutatedIndex.append(tryIndex)\n",
    "\n",
    "        #выбираем, какие биты менять\n",
    "        bitsIndex = []\n",
    "        while len(bitsIndex) != 3:\n",
    "            tryIndex = random.randint(0, numGenes - 1)\n",
    "            if tryIndex in bitsIndex:\n",
    "                continue\n",
    "            else:\n",
    "                bitsIndex.append(tryIndex)\n",
    "\n",
    "        # print(crossedIndividuals[tryIndex])\n",
    "        # сама мутация\n",
    "        for i in range(len(bitsIndex)):\n",
    "            crossedIndividuals[tryIndex][bitsIndex[i]] ^= 1 \n",
    "\n",
    "    return crossedIndividuals"
   ]
  },
  {
   "cell_type": "code",
   "execution_count": 64,
   "metadata": {},
   "outputs": [],
   "source": [
    "def makeNewPopulation(myPopulation, data, mutatedIndividuals):\n",
    "    valueOfPopulation = []\n",
    "    for i in range(len(myPopulation)):\n",
    "        individualList = []\n",
    "        individualList.append(int(countPrice(myPopulation[i], data) * 0.9)) #изменение и добавление ценности; у всей старой популяции забираем по 10%\n",
    "        individualList.append(myPopulation[i])\n",
    "        valueOfPopulation.append(individualList)\n",
    "\n",
    "    for i in range(len(mutatedIndividuals)):\n",
    "        individualMutatedList = []\n",
    "        individualMutatedList.append(countPrice(mutatedIndividuals[i], data))\n",
    "        individualMutatedList.append(mutatedIndividuals[i])\n",
    "        valueOfPopulation.append(individualMutatedList)\n",
    "\n",
    "    valueOfPopulation.sort(reverse=True)\n",
    "\n",
    "    #добиваем до 200 осыбей\n",
    "    while numInd  < len(valueOfPopulation):\n",
    "        valueOfPopulation.pop(numInd )\n",
    "\n",
    "    return valueOfPopulation"
   ]
  },
  {
   "cell_type": "code",
   "execution_count": 65,
   "metadata": {},
   "outputs": [],
   "source": [
    "def genAlg(myPopulation, data, lowestCost, circles):\n",
    "    circles += 1 #кол-во поколений\n",
    "    forMaxVal = copy.deepcopy(myPopulation) #создаем полноую копию популяции, чтобы не копировать ссылку, а отдельный массив такой же\n",
    "\n",
    "    valueOfPopulation = []\n",
    "    for i in range(len(forMaxVal)):\n",
    "        individualMutatedList = []\n",
    "        individualMutatedList.append(countPrice(forMaxVal[i], data))\n",
    "        individualMutatedList.append(forMaxVal[i])\n",
    "        valueOfPopulation.append(individualMutatedList)\n",
    "    valueOfPopulation.sort(reverse=True)\n",
    "\n",
    "    maxVal = valueOfPopulation[0][0] #берем самую большую ценность\n",
    "\n",
    "    while circles <= 500:\n",
    "        # Отбор особей\n",
    "        selectedIndividuals = selection(myPopulation, data)\n",
    "\n",
    "        # Скрещивание друг с другом\n",
    "        crossedIndividuals = crossing(selectedIndividuals, data)\n",
    "\n",
    "        # Мутация 5%\n",
    "        mutatedIndividuals = mutating(crossedIndividuals, data, numGenes)\n",
    "\n",
    "        # Новая популяция, штраф старых\n",
    "        newPopulation = makeNewPopulation(myPopulation, data, mutatedIndividuals)\n",
    "\n",
    "        #разница между max ценностью старой и новой популяции\n",
    "        if abs(maxVal - newPopulation[0][0]) < lowestCost and circles > 100:\n",
    "            return newPopulation\n",
    "        maxVal = newPopulation[0][0]\n",
    "        circles += 1\n",
    "\n",
    "    return newPopulation"
   ]
  },
  {
   "cell_type": "code",
   "execution_count": 66,
   "metadata": {},
   "outputs": [
    {
     "name": "stdout",
     "output_type": "stream",
     "text": [
      "Value: 4046\n",
      "Weight: 12275\n",
      "Volume: 11.6\n"
     ]
    }
   ],
   "source": [
    "\n",
    "\n",
    "# Генерируем популяцию\n",
    "myPopulation = creation_of_population()\n",
    "lowestCost = -1\n",
    "\n",
    "file = open('11.txt')\n",
    "\n",
    "line = file.readline()\n",
    "restrictions = line.split()\n",
    "maxWeight = int(restrictions[0])\n",
    "maxVolume = int(restrictions[1])\n",
    "\n",
    "data = []\n",
    "line = file.readline()\n",
    "lowestCost = -1\n",
    "while line:\n",
    "    data.append(line.split())\n",
    "    line = file.readline()\n",
    "\n",
    "for i in range(numGenes-1):\n",
    "    price = int(data[i][2])\n",
    "    if lowestCost == -1 or price < lowestCost:\n",
    "        lowestCost = price\n",
    "\n",
    "file.close()\n",
    "\n",
    "finalPopulation = genAlg(myPopulation, data, lowestCost, 0)\n",
    "\n",
    "weight, volume = 0, 0\n",
    "\n",
    "for i in range(numGenes):\n",
    "    weight += int(data[i][0]) * finalPopulation[0][1][i]\n",
    "    volume += float(data[i][1]) * finalPopulation[0][1][i]\n",
    "\n",
    "f = open('result.txt', 'w')\n",
    "f.write(\"Value: \" + str(finalPopulation[0][0]) + '\\n')\n",
    "f.write(\"Weight: \" + str(weight) + '\\n')\n",
    "f.write(\"Volume: \" + str(volume) + '\\n')\n",
    "\n",
    "print(\"Value: \" + str(finalPopulation[0][0]))\n",
    "print(\"Weight: \" + str(weight))\n",
    "print(\"Volume: \" + str(volume))\n",
    "f.close()"
   ]
  },
  {
   "cell_type": "code",
   "execution_count": null,
   "metadata": {},
   "outputs": [],
   "source": []
  },
  {
   "cell_type": "code",
   "execution_count": null,
   "metadata": {},
   "outputs": [],
   "source": []
  }
 ],
 "metadata": {
  "kernelspec": {
   "display_name": "Python 3",
   "language": "python",
   "name": "python3"
  },
  "language_info": {
   "codemirror_mode": {
    "name": "ipython",
    "version": 3
   },
   "file_extension": ".py",
   "mimetype": "text/x-python",
   "name": "python",
   "nbconvert_exporter": "python",
   "pygments_lexer": "ipython3",
   "version": "3.8.5"
  }
 },
 "nbformat": 4,
 "nbformat_minor": 4
}
